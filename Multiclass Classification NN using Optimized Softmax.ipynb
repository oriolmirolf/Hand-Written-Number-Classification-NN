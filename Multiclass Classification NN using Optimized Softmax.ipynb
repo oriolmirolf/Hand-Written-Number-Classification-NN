{
 "cells": [
  {
   "cell_type": "markdown",
   "id": "685bec92",
   "metadata": {},
   "source": [
    "# Project: Multiclass Classification NN with Optimied Softmax using part of MNIST dataset for 0-9 Handwritten number Recognition"
   ]
  },
  {
   "cell_type": "markdown",
   "id": "fbba1e40",
   "metadata": {},
   "source": [
    "## 1: Import libraries"
   ]
  },
  {
   "cell_type": "code",
   "execution_count": 115,
   "id": "775292e0",
   "metadata": {},
   "outputs": [],
   "source": [
    "import numpy as np\n",
    "import tensorflow as tf\n",
    "from tensorflow.keras.models import Sequential\n",
    "from tensorflow.keras.layers import Dense\n",
    "from tensorflow.keras.activations import linear, relu, sigmoid\n",
    "from sklearn.model_selection import train_test_split\n",
    "import matplotlib.pyplot as plt\n",
    "\n",
    "\n",
    "np.set_printoptions(precision=2)"
   ]
  },
  {
   "cell_type": "markdown",
   "id": "5cb61fba",
   "metadata": {},
   "source": [
    "## 2: Import data (and visualize shape)"
   ]
  },
  {
   "cell_type": "code",
   "execution_count": 116,
   "id": "138e0a2a",
   "metadata": {
    "scrolled": false
   },
   "outputs": [
    {
     "name": "stdout",
     "output_type": "stream",
     "text": [
      "Shapes:\n",
      "\n",
      "X_train: (4000, 400), y_train = (4000, 1)\n",
      "X_train: (1000, 400), y_train = (1000, 1)\n"
     ]
    }
   ],
   "source": [
    "X = np.load(\"data/X.npy\")\n",
    "y = np.load(\"data/y.npy\")\n",
    "X_train, X_test, y_train, y_test = train_test_split(X,\n",
    "                                                    y,\n",
    "                                                    test_size=0.20,\n",
    "                                                    random_state=42)\n",
    "print(\"Shapes:\\n\")\n",
    "print(f\"X_train: {X_train.shape}, y_train = {y_train.shape}\")\n",
    "print(f\"X_train: {X_test.shape}, y_train = {y_test.shape}\")"
   ]
  },
  {
   "cell_type": "markdown",
   "id": "c87db1fd",
   "metadata": {},
   "source": [
    "## 3: Create model"
   ]
  },
  {
   "cell_type": "markdown",
   "id": "295d407c",
   "metadata": {},
   "source": [
    "We'll use linear as last layer for improved numerical accuracy"
   ]
  },
  {
   "cell_type": "code",
   "execution_count": 117,
   "id": "041ba462",
   "metadata": {},
   "outputs": [],
   "source": [
    "model = Sequential(\n",
    "    [               \n",
    "        tf.keras.Input(shape=(400,)),\n",
    "        Dense(25, activation='relu'),\n",
    "        Dense(15, activation='relu'),\n",
    "        Dense(10, activation='linear')\n",
    "        \n",
    "    ], name = \"my_model\" \n",
    ")"
   ]
  },
  {
   "cell_type": "code",
   "execution_count": 118,
   "id": "4d9ec975",
   "metadata": {},
   "outputs": [
    {
     "name": "stdout",
     "output_type": "stream",
     "text": [
      "Model: \"my_model\"\n",
      "_________________________________________________________________\n",
      " Layer (type)                Output Shape              Param #   \n",
      "=================================================================\n",
      " dense_21 (Dense)            (None, 25)                10025     \n",
      "                                                                 \n",
      " dense_22 (Dense)            (None, 15)                390       \n",
      "                                                                 \n",
      " dense_23 (Dense)            (None, 10)                160       \n",
      "                                                                 \n",
      "=================================================================\n",
      "Total params: 10,575\n",
      "Trainable params: 10,575\n",
      "Non-trainable params: 0\n",
      "_________________________________________________________________\n"
     ]
    }
   ],
   "source": [
    "model.summary()"
   ]
  },
  {
   "cell_type": "markdown",
   "id": "a439dc9b",
   "metadata": {},
   "source": [
    "## 4: Train model"
   ]
  },
  {
   "cell_type": "code",
   "execution_count": 119,
   "id": "32f4ad46",
   "metadata": {},
   "outputs": [
    {
     "name": "stdout",
     "output_type": "stream",
     "text": [
      "Epoch 1/50\n",
      "125/125 [==============================] - 0s 734us/step - loss: 1.5856\n",
      "Epoch 2/50\n",
      "125/125 [==============================] - 0s 718us/step - loss: 0.6536\n",
      "Epoch 3/50\n",
      "125/125 [==============================] - 0s 722us/step - loss: 0.4516\n",
      "Epoch 4/50\n",
      "125/125 [==============================] - 0s 718us/step - loss: 0.3713\n",
      "Epoch 5/50\n",
      "125/125 [==============================] - 0s 726us/step - loss: 0.3197\n",
      "Epoch 6/50\n",
      "125/125 [==============================] - 0s 726us/step - loss: 0.2808\n",
      "Epoch 7/50\n",
      "125/125 [==============================] - 0s 726us/step - loss: 0.2513\n",
      "Epoch 8/50\n",
      "125/125 [==============================] - 0s 726us/step - loss: 0.2206\n",
      "Epoch 9/50\n",
      "125/125 [==============================] - 0s 758us/step - loss: 0.2023\n",
      "Epoch 10/50\n",
      "125/125 [==============================] - 0s 790us/step - loss: 0.1890\n",
      "Epoch 11/50\n",
      "125/125 [==============================] - 0s 750us/step - loss: 0.1764\n",
      "Epoch 12/50\n",
      "125/125 [==============================] - 0s 806us/step - loss: 0.1663\n",
      "Epoch 13/50\n",
      "125/125 [==============================] - 0s 750us/step - loss: 0.1520\n",
      "Epoch 14/50\n",
      "125/125 [==============================] - 0s 726us/step - loss: 0.1426\n",
      "Epoch 15/50\n",
      "125/125 [==============================] - 0s 718us/step - loss: 0.1368\n",
      "Epoch 16/50\n",
      "125/125 [==============================] - 0s 718us/step - loss: 0.1265\n",
      "Epoch 17/50\n",
      "125/125 [==============================] - 0s 734us/step - loss: 0.1206\n",
      "Epoch 18/50\n",
      "125/125 [==============================] - 0s 726us/step - loss: 0.1142\n",
      "Epoch 19/50\n",
      "125/125 [==============================] - 0s 718us/step - loss: 0.1092\n",
      "Epoch 20/50\n",
      "125/125 [==============================] - 0s 734us/step - loss: 0.1009\n",
      "Epoch 21/50\n",
      "125/125 [==============================] - 0s 726us/step - loss: 0.0988\n",
      "Epoch 22/50\n",
      "125/125 [==============================] - 0s 750us/step - loss: 0.0893\n",
      "Epoch 23/50\n",
      "125/125 [==============================] - 0s 774us/step - loss: 0.0861\n",
      "Epoch 24/50\n",
      "125/125 [==============================] - 0s 798us/step - loss: 0.0811\n",
      "Epoch 25/50\n",
      "125/125 [==============================] - 0s 806us/step - loss: 0.0773\n",
      "Epoch 26/50\n",
      "125/125 [==============================] - 0s 774us/step - loss: 0.0724\n",
      "Epoch 27/50\n",
      "125/125 [==============================] - 0s 774us/step - loss: 0.0667\n",
      "Epoch 28/50\n",
      "125/125 [==============================] - 0s 782us/step - loss: 0.0625\n",
      "Epoch 29/50\n",
      "125/125 [==============================] - 0s 774us/step - loss: 0.0608\n",
      "Epoch 30/50\n",
      "125/125 [==============================] - 0s 782us/step - loss: 0.0591\n",
      "Epoch 31/50\n",
      "125/125 [==============================] - 0s 718us/step - loss: 0.0525\n",
      "Epoch 32/50\n",
      "125/125 [==============================] - 0s 734us/step - loss: 0.0502\n",
      "Epoch 33/50\n",
      "125/125 [==============================] - 0s 726us/step - loss: 0.0478\n",
      "Epoch 34/50\n",
      "125/125 [==============================] - 0s 782us/step - loss: 0.0437\n",
      "Epoch 35/50\n",
      "125/125 [==============================] - 0s 806us/step - loss: 0.0429\n",
      "Epoch 36/50\n",
      "125/125 [==============================] - 0s 734us/step - loss: 0.0400\n",
      "Epoch 37/50\n",
      "125/125 [==============================] - 0s 734us/step - loss: 0.0379\n",
      "Epoch 38/50\n",
      "125/125 [==============================] - 0s 750us/step - loss: 0.0347\n",
      "Epoch 39/50\n",
      "125/125 [==============================] - 0s 766us/step - loss: 0.0317\n",
      "Epoch 40/50\n",
      "125/125 [==============================] - 0s 758us/step - loss: 0.0299\n",
      "Epoch 41/50\n",
      "125/125 [==============================] - 0s 734us/step - loss: 0.0294\n",
      "Epoch 42/50\n",
      "125/125 [==============================] - 0s 726us/step - loss: 0.0268\n",
      "Epoch 43/50\n",
      "125/125 [==============================] - 0s 718us/step - loss: 0.0243\n",
      "Epoch 44/50\n",
      "125/125 [==============================] - 0s 742us/step - loss: 0.0222\n",
      "Epoch 45/50\n",
      "125/125 [==============================] - 0s 726us/step - loss: 0.0205\n",
      "Epoch 46/50\n",
      "125/125 [==============================] - 0s 718us/step - loss: 0.0211\n",
      "Epoch 47/50\n",
      "125/125 [==============================] - 0s 718us/step - loss: 0.0182\n",
      "Epoch 48/50\n",
      "125/125 [==============================] - 0s 726us/step - loss: 0.0166\n",
      "Epoch 49/50\n",
      "125/125 [==============================] - 0s 750us/step - loss: 0.0170\n",
      "Epoch 50/50\n",
      "125/125 [==============================] - 0s 726us/step - loss: 0.0159\n"
     ]
    },
    {
     "data": {
      "text/plain": [
       "<keras.callbacks.History at 0x1c7c1922910>"
      ]
     },
     "execution_count": 119,
     "metadata": {},
     "output_type": "execute_result"
    }
   ],
   "source": [
    "model.compile(\n",
    "    loss=tf.keras.losses.SparseCategoricalCrossentropy(from_logits=True),\n",
    "    optimizer=tf.keras.optimizers.Adam(learning_rate=0.001),\n",
    ")\n",
    "model.fit(X_train, y_train, epochs = 50)"
   ]
  },
  {
   "cell_type": "markdown",
   "id": "4c4af92c",
   "metadata": {},
   "source": [
    "## 5: Evaluate the model"
   ]
  },
  {
   "cell_type": "code",
   "execution_count": 120,
   "id": "714be213",
   "metadata": {},
   "outputs": [],
   "source": [
    "def calc_accuracy(model,X,y):\n",
    "    f = model.predict(X)\n",
    "    yhat = np.argmax(f, axis=1)\n",
    "    doo = yhat != y[:,0]\n",
    "    idxs = np.where(yhat == y[:,0])[0]\n",
    "    return(len(idxs) / X.shape[0])"
   ]
  },
  {
   "cell_type": "code",
   "execution_count": 121,
   "id": "67691b67",
   "metadata": {},
   "outputs": [
    {
     "name": "stdout",
     "output_type": "stream",
     "text": [
      "125/125 [==============================] - 0s 556us/step\n",
      "Acurracy on training set = 0.99925\n",
      "32/32 [==============================] - 0s 581us/step\n",
      "Acurracy on testing set = 0.928\n"
     ]
    }
   ],
   "source": [
    "print(f\"Acurracy on training set = {calc_accuracy(model, X_train, y_train) }\")\n",
    "print(f\"Acurracy on testing set = {calc_accuracy(model, X_test, y_test) }\")"
   ]
  },
  {
   "cell_type": "code",
   "execution_count": null,
   "id": "9fce0e46",
   "metadata": {},
   "outputs": [],
   "source": []
  }
 ],
 "metadata": {
  "kernelspec": {
   "display_name": "Python 3 (ipykernel)",
   "language": "python",
   "name": "python3"
  },
  "language_info": {
   "codemirror_mode": {
    "name": "ipython",
    "version": 3
   },
   "file_extension": ".py",
   "mimetype": "text/x-python",
   "name": "python",
   "nbconvert_exporter": "python",
   "pygments_lexer": "ipython3",
   "version": "3.9.13"
  }
 },
 "nbformat": 4,
 "nbformat_minor": 5
}
